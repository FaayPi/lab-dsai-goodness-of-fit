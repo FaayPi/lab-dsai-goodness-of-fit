{
  "cells": [
    {
      "cell_type": "markdown",
      "metadata": {
        "id": "PV5fYDr6LYnl"
      },
      "source": [
        "# Lab | Goodness of Fit and Independence Tests\n",
        "\n",
        "## Question 1\n",
        "A researcher gathers information about the patterns of Physical Activity of children in the fifth grade of primary school of a public school. He defines three categories of physical activity (Low, Medium, High). He also inquires about the regular consumption of sugary drinks at school, and defines two categories (Yes = consumed, No = not consumed). We would like to evaluate if there is an association between patterns of physical activity and the consumption of sugary drinks for the children of this school, at a level of 5% significance. The results are in the following table:\n",
        "\n",
        "![](https://education-team-2020.s3.eu-west-1.amazonaws.com/ds-ai/lab-goodness-of-fit/table4.png)"
      ]
    },
    {
      "cell_type": "code",
      "source": [
        "import pandas as pd\n",
        "\n",
        "data = {\n",
        "    \"Sugary Drinks Yes\": [32, 14, 6],\n",
        "    \"Sugary Drinks No\": [12, 22, 9]\n",
        "}\n",
        "\n",
        "index = [\"Low\", \"Medium\", \"High\"]\n",
        "\n",
        "crosstab = pd.DataFrame(data, index=index)\n",
        "crosstab.index.name = \"Physical Activity\"\n",
        "\n",
        "crosstab.loc[\"Total\"] = crosstab.sum()\n",
        "crosstab[\"Total\"] = crosstab.sum(axis=1)\n",
        "\n",
        "print(crosstab)\n"
      ],
      "metadata": {
        "colab": {
          "base_uri": "https://localhost:8080/"
        },
        "id": "M2_tOy-L6sFv",
        "outputId": "265103d7-9ba3-42f9-90b4-8a474c36564f"
      },
      "execution_count": 1,
      "outputs": [
        {
          "output_type": "stream",
          "name": "stdout",
          "text": [
            "                   Sugary Drinks Yes  Sugary Drinks No  Total\n",
            "Physical Activity                                            \n",
            "Low                               32                12     44\n",
            "Medium                            14                22     36\n",
            "High                               6                 9     15\n",
            "Total                             52                43     95\n"
          ]
        }
      ]
    },
    {
      "cell_type": "code",
      "execution_count": 2,
      "metadata": {
        "colab": {
          "base_uri": "https://localhost:8080/"
        },
        "id": "Pu4NGAWwLYnn",
        "outputId": "a75c3643-3913-4c2b-8a34-1060459c2db7"
      },
      "outputs": [
        {
          "output_type": "stream",
          "name": "stdout",
          "text": [
            "Chi²: 10.7122\n",
            "p-value: 0.0977\n",
            "DoF: 6\n",
            "expected frequency:\n",
            "[[24.08421053 19.91578947 44.        ]\n",
            " [19.70526316 16.29473684 36.        ]\n",
            " [ 8.21052632  6.78947368 15.        ]\n",
            " [52.         43.         95.        ]]\n"
          ]
        }
      ],
      "source": [
        "# your answer here\n",
        "from scipy.stats import chi2_contingency\n",
        "\n",
        "chi2, p, dof, expected = chi2_contingency(crosstab)\n",
        "\n",
        "print(f\"Chi²: {chi2:.4f}\")\n",
        "print(f\"p-value: {p:.4f}\")\n",
        "print(f\"DoF: {dof}\")\n",
        "print(\"expected frequency:\")\n",
        "print(expected)"
      ]
    },
    {
      "cell_type": "code",
      "source": [
        "alpha = 0.05\n",
        "if p < alpha:\n",
        "    print('\\n→ H0 is rejected: There is a significant relationship between the variables \"Physical Activity\" and \"Sugar Drinks\".')\n",
        "else:\n",
        "    print('\\n→ H0 is not rejected: There is NO significant relationship between the variables \"Physical Activity\" and \"Sugar Drinks\".')\n"
      ],
      "metadata": {
        "colab": {
          "base_uri": "https://localhost:8080/"
        },
        "id": "bvvuIknj62-4",
        "outputId": "ed239c47-8697-4911-a8ce-79ae8e0aaf2c"
      },
      "execution_count": 3,
      "outputs": [
        {
          "output_type": "stream",
          "name": "stdout",
          "text": [
            "\n",
            "→ H0 is not rejected: There is NO significant relationship between the variables \"Physical Activity\" and \"Sugar Drinks\".\n"
          ]
        }
      ]
    },
    {
      "cell_type": "markdown",
      "metadata": {
        "id": "BGWEtD_ULYno"
      },
      "source": [
        "## [OPTIONAL] Question 2\n",
        "The following table indicates the number of 6-point scores in an American rugby match in the 1979 season.\n",
        "\n",
        "![](https://education-team-2020.s3.eu-west-1.amazonaws.com/ds-ai/lab-goodness-of-fit/table1.png)\n",
        "\n",
        "Based on these results, we create a Poisson distribution with the sample mean parameter  = 2.435. Is there any reason to believe that at a .05 level the number of scores is a Poisson variable?\n",
        "\n",
        "Check [here](https://www.geeksforgeeks.org/how-to-create-a-poisson-probability-mass-function-plot-in-python/) how to create a poisson distribution and how to calculate the expected observations, using the probability mass function (pmf).\n",
        "A Poisson distribution is a discrete probability distribution. It gives the probability of an event happening a certain number of times (k) within a given interval of time or space. The Poisson distribution has only one parameter, λ (lambda), which is the mean number of events."
      ]
    },
    {
      "cell_type": "code",
      "source": [
        "import pandas as pd\n",
        "import numpy as np\n",
        "from scipy.stats import poisson, chisquare\n",
        "\n",
        "# Original data\n",
        "observed_counts = [35, 99, 104, 110, 62, 25, 10, 3]\n",
        "categories = [\"0\", \"1\", \"2\", \"3\", \"4\", \"5\", \"6\", \"7+\"]\n",
        "\n",
        "df = pd.DataFrame({\n",
        "    \"scores\": categories,\n",
        "    \"observed\": observed_counts\n",
        "})\n",
        "\n",
        "total_obs = sum(observed_counts)\n",
        "λ = 2.435\n",
        "\n",
        "# Individual probabilities from 0 to 6\n",
        "expected_probs = [poisson.pmf(k, mu=λ) for k in range(7)]\n",
        "\n",
        "# Probability for \"7 or more\" = 1 - sum of first 7\n",
        "expected_probs.append(1 - sum(expected_probs))\n",
        "\n",
        "# Expected counts (probability * total)\n",
        "expected_counts = [round(p * total_obs, 2) for p in expected_probs]\n",
        "\n",
        "df[\"expected\"] = expected_counts\n",
        "print(df)\n",
        "\n",
        "chi2_stat, p_value = chisquare(f_obs=observed_counts, f_exp=expected_counts)\n",
        "\n",
        "print(f\"\\nChi-square statistic: {chi2_stat:.4f}\")\n",
        "print(f\"p-value: {p_value:.4f}\")\n",
        "\n",
        "alpha = 0.05\n",
        "if p_value < alpha:\n",
        "    print(\"➡️ Reject H0: The distribution is NOT Poisson.\")\n",
        "else:\n",
        "    print(\"✅ Fail to reject H0: The distribution could be Poisson.\")\n"
      ],
      "metadata": {
        "colab": {
          "base_uri": "https://localhost:8080/"
        },
        "id": "Rv7k_3x97jSh",
        "outputId": "e886f109-dba4-4244-c212-4ccd51eea485"
      },
      "execution_count": 8,
      "outputs": [
        {
          "output_type": "stream",
          "name": "stdout",
          "text": [
            "  scores  observed  expected\n",
            "0      0        35     39.24\n",
            "1      1        99     95.56\n",
            "2      2       104    116.34\n",
            "3      3       110     94.43\n",
            "4      4        62     57.49\n",
            "5      5        25     28.00\n",
            "6      6        10     11.36\n",
            "7     7+         3      5.58\n",
            "\n",
            "Chi-square statistic: 6.4891\n",
            "p-value: 0.4839\n",
            "✅ Fail to reject H0: The distribution could be Poisson.\n"
          ]
        }
      ]
    }
  ],
  "metadata": {
    "kernelspec": {
      "display_name": "Python 3",
      "language": "python",
      "name": "python3"
    },
    "language_info": {
      "codemirror_mode": {
        "name": "ipython",
        "version": 3
      },
      "file_extension": ".py",
      "mimetype": "text/x-python",
      "name": "python",
      "nbconvert_exporter": "python",
      "pygments_lexer": "ipython3",
      "version": "3.8.3"
    },
    "colab": {
      "provenance": []
    }
  },
  "nbformat": 4,
  "nbformat_minor": 0
}